{
 "cells": [
  {
   "cell_type": "code",
   "execution_count": 2,
   "metadata": {},
   "outputs": [],
   "source": [
    "#This is a script for concatenating files so that I don't have to open each file, copy and paste, etc.\n",
    "muscle_list = ['biceps_femoris.txt', 'glute_max.txt', 'glute_med.txt', 'lateral_gastroc.txt', 'medial_gastroc.txt', \n",
    "               'rectus_femoris.txt', 'soleus.txt', 'semitendinosus.txt', 'tibialis_anterior.txt', \n",
    "               'vastus_lateralis.txt', 'vastus_medialis.txt']\n",
    "\n",
    "for muscle in muscle_list:\n",
    "    filenames = ['/Users/rossbrancati/Desktop/PFP_Project/EMG/Data/metric_matrices/individual_means/healthy/'+muscle,\n",
    "                 '/Users/rossbrancati/Desktop/PFP_Project/EMG/Data/metric_matrices/individual_means/injured/'+muscle,\n",
    "                 '/Users/rossbrancati/Desktop/PFP_Project/EMG/Data/metric_matrices/individual_means/recovered_01/'+muscle,\n",
    "                 '/Users/rossbrancati/Desktop/PFP_Project/EMG/Data/metric_matrices/individual_means/recovered_021/'+muscle]\n",
    "    with open('/Users/rossbrancati/Desktop/PFP_Project/EMG/Data/metric_matrices/individual_means/all_groups/'+muscle, 'w') as outfile:\n",
    "        for fname in filenames:\n",
    "            with open(fname) as infile:\n",
    "                outfile.write(infile.read())"
   ]
  },
  {
   "cell_type": "code",
   "execution_count": null,
   "metadata": {},
   "outputs": [],
   "source": []
  }
 ],
 "metadata": {
  "kernelspec": {
   "display_name": "Python 3",
   "language": "python",
   "name": "python3"
  },
  "language_info": {
   "codemirror_mode": {
    "name": "ipython",
    "version": 3
   },
   "file_extension": ".py",
   "mimetype": "text/x-python",
   "name": "python",
   "nbconvert_exporter": "python",
   "pygments_lexer": "ipython3",
   "version": "3.8.8"
  }
 },
 "nbformat": 4,
 "nbformat_minor": 2
}
