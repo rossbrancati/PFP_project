{
 "cells": [
  {
   "cell_type": "code",
   "execution_count": 25,
   "metadata": {},
   "outputs": [],
   "source": [
    "#This script normalizes the EMG waveforms (that are 101 datapoints long) to the maximum\n",
    "#EMG amplitude for the particular stride\n",
    "group = 'recovered_021'\n",
    "\n",
    "\n",
    "read_folder_path = group+'_resampled/'\n",
    "output_folder_path = '/normalized_EMG_data_subjects/'+group+'_normalized/'"
   ]
  },
  {
   "cell_type": "code",
   "execution_count": 26,
   "metadata": {},
   "outputs": [],
   "source": [
    "import os\n",
    "import numpy as np \n",
    "import pandas as pd"
   ]
  },
  {
   "cell_type": "code",
   "execution_count": 27,
   "metadata": {},
   "outputs": [
    {
     "data": {
      "text/plain": [
       "['S14_EMG_021.txt',\n",
       " 'S15_EMG_021.txt',\n",
       " 'S28_EMG_021.txt',\n",
       " 'S30_EMG_021.txt',\n",
       " 'S31_EMG_021.txt',\n",
       " 'S33_EMG_021.txt',\n",
       " 'S35_EMG_021.txt',\n",
       " 'S37_EMG_021.txt',\n",
       " 'S42_EMG_021.txt',\n",
       " 'S43_EMG_021.txt',\n",
       " 'S46_EMG_021.txt',\n",
       " 'S48_EMG_021.txt',\n",
       " 'S49_EMG_021.txt',\n",
       " 'S50_EMG_021.txt',\n",
       " 'S59_EMG_021.txt']"
      ]
     },
     "execution_count": 27,
     "metadata": {},
     "output_type": "execute_result"
    }
   ],
   "source": [
    "#set the working directory\n",
    "os.chdir('/Users/rossbrancati/Desktop/PFP_Project/EMG/Data/resampled_V3D_data')\n",
    "data_directory = os.path.join(os.getcwd(), read_folder_path)\n",
    "directory = sorted(os.listdir(data_directory))\n",
    "#directory.remove('.DS_Store')\n",
    "directory"
   ]
  },
  {
   "cell_type": "code",
   "execution_count": 28,
   "metadata": {},
   "outputs": [],
   "source": [
    "for file_idx,file_name in enumerate(directory):\n",
    "    current_matrix = np.zeros([101,1])\n",
    "    \n",
    "    file_path = os.path.join(data_directory,file_name)\n",
    "    \n",
    "    raw_file = pd.read_csv(file_path,sep='\\t', header=None)\n",
    "    _,num_cols = raw_file.shape\n",
    "\n",
    "    for cols in range(num_cols):\n",
    "        \n",
    "        #pull the current column from the raw file\n",
    "        current_col = raw_file[raw_file.columns[cols]]\n",
    "\n",
    "        #divide each element by the maximum EMG value\n",
    "        normalized_col = current_col / max(current_col)\n",
    "\n",
    "        #convert from pandas array to numpy array\n",
    "        normalized_col_np = normalized_col.to_numpy()\n",
    "        normalized_col_np = normalized_col_np.reshape(101,1)\n",
    "        #normalized_col_np = normalized_col_np\n",
    "\n",
    "        #horizontally stack the normalized column with the correct np data array generated above\n",
    "        current_matrix = np.hstack((current_matrix, normalized_col_np))\n",
    "        \n",
    "    current_matrix=current_matrix[:,1:]\n",
    "    \n",
    "    np.savetxt('/Users/rossbrancati/Desktop/PFP_Project/EMG/Data/'+output_folder_path+file_name, current_matrix, \n",
    "               delimiter=\"\\t\", fmt='%f')"
   ]
  },
  {
   "cell_type": "code",
   "execution_count": null,
   "metadata": {},
   "outputs": [],
   "source": []
  }
 ],
 "metadata": {
  "kernelspec": {
   "display_name": "Python 3",
   "language": "python",
   "name": "python3"
  },
  "language_info": {
   "codemirror_mode": {
    "name": "ipython",
    "version": 3
   },
   "file_extension": ".py",
   "mimetype": "text/x-python",
   "name": "python",
   "nbconvert_exporter": "python",
   "pygments_lexer": "ipython3",
   "version": "3.8.8"
  }
 },
 "nbformat": 4,
 "nbformat_minor": 2
}
