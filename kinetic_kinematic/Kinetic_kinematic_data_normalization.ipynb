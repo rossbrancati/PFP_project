{
 "cells": [
  {
   "cell_type": "code",
   "execution_count": 1,
   "metadata": {},
   "outputs": [],
   "source": [
    "#This script will normalize all kinetic_kinematic data to 101 data points\n",
    "\n",
    "#import libraries\n",
    "import os\n",
    "import numpy as np \n",
    "import pandas as pd \n",
    "from scipy.signal import resample "
   ]
  },
  {
   "cell_type": "code",
   "execution_count": 4,
   "metadata": {},
   "outputs": [],
   "source": [
    "#set the working directory\n",
    "os.chdir('/Users/rossbrancati/Desktop/PFP_Project/kinetic_kinematic/')\n",
    "data_directory = os.path.join(os.getcwd(), 'Data')\n",
    "directory = sorted(os.listdir(data_directory))\n",
    "directory.remove('.DS_Store')\n",
    "\n",
    "#make a new directory to store the PCA matrices in\n",
    "resampled_directory = os.path.join(os.getcwd(),'resampled_data')\n"
   ]
  },
  {
   "cell_type": "code",
   "execution_count": 6,
   "metadata": {},
   "outputs": [],
   "source": [
    "#loop through files in directory\n",
    "for file_idx,file_name in enumerate(directory):\n",
    "    \n",
    "    #set variable as file path\n",
    "    file_path = os.path.join(data_directory,file_name)\n",
    "    \n",
    "    #load the file\n",
    "    raw_file = pd.read_csv(file_path,sep='\\t',skiprows=4)\n",
    "    _,num_cols = raw_file.shape\n",
    "    \n",
    "    #preallocate a matrix to store the resampled data in\n",
    "    resampled_matrix = np.zeros([101,num_cols-1])\n",
    "    \n",
    "    #loop through each column in the raw_file and resample to 101 data points\n",
    "    #list of the varaibles which represent each column\n",
    "    column_list=raw_file.columns\n",
    "    \n",
    "    #loop through each column\n",
    "    for col_idx,column_id in enumerate(column_list[1:]):\n",
    "        \n",
    "        #get the current column as a vector\n",
    "        current_col = np.array(raw_file.loc[:,column_id].dropna())\n",
    "        \n",
    "        #resample to 101 data points\n",
    "        resamp_col = resample(current_col,101)\n",
    "        \n",
    "        #store resamples vector in resampled matrix\n",
    "        resampled_matrix[:,col_idx] = resamp_col\n",
    "        \n",
    "    #save the resampled matrix to the resampled_data folder\n",
    "    np.savetxt(resampled_directory+'/'+file_name, resampled_matrix, delimiter=\"\\t\", fmt='%f')"
   ]
  },
  {
   "cell_type": "code",
   "execution_count": null,
   "metadata": {},
   "outputs": [],
   "source": []
  }
 ],
 "metadata": {
  "kernelspec": {
   "display_name": "Python 3",
   "language": "python",
   "name": "python3"
  },
  "language_info": {
   "codemirror_mode": {
    "name": "ipython",
    "version": 3
   },
   "file_extension": ".py",
   "mimetype": "text/x-python",
   "name": "python",
   "nbconvert_exporter": "python",
   "pygments_lexer": "ipython3",
   "version": "3.7.3"
  }
 },
 "nbformat": 4,
 "nbformat_minor": 2
}
