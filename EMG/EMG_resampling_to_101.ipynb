{
 "cells": [
  {
   "cell_type": "code",
   "execution_count": 25,
   "metadata": {},
   "outputs": [],
   "source": [
    "#Change these depending on the file path\n",
    "group = 'recovered_021'\n",
    "\n",
    "read_folder = group+'_EMG'\n",
    "output_folder_path = group+'_resampled'"
   ]
  },
  {
   "cell_type": "code",
   "execution_count": 26,
   "metadata": {},
   "outputs": [],
   "source": [
    "# import libraries\n",
    "import os\n",
    "import numpy as np \n",
    "import pandas as pd \n",
    "from scipy.signal import resample \n",
    "import matplotlib.pyplot as plt "
   ]
  },
  {
   "cell_type": "code",
   "execution_count": 27,
   "metadata": {},
   "outputs": [
    {
     "name": "stdout",
     "output_type": "stream",
     "text": [
      "['S14_EMG_021.txt', 'S15_EMG_021.txt', 'S28_EMG_021.txt', 'S30_EMG_021.txt', 'S31_EMG_021.txt', 'S33_EMG_021.txt', 'S35_EMG_021.txt', 'S37_EMG_021.txt', 'S42_EMG_021.txt', 'S43_EMG_021.txt', 'S46_EMG_021.txt', 'S48_EMG_021.txt', 'S49_EMG_021.txt', 'S50_EMG_021.txt', 'S59_EMG_021.txt']\n"
     ]
    }
   ],
   "source": [
    "#set the working directory\n",
    "os.chdir('/Users/rossbrancati/Desktop/PFP_Project/EMG/Data/V3D_data/')\n",
    "data_directory = os.path.join(os.getcwd(), read_folder)\n",
    "directory = sorted(os.listdir(data_directory))\n",
    "#directory.remove('.DS_Store')\n",
    "print(directory)\n",
    "\n",
    "#make a new directory to store the PCA matrices in\n",
    "pca_directory = os.path.join(os.getcwd(),'PCA_matrices')"
   ]
  },
  {
   "cell_type": "code",
   "execution_count": 28,
   "metadata": {},
   "outputs": [],
   "source": [
    "#Create an empty matrix for each muscle that will be appended with each new sheet. This is 1 column of 101 zeros\n",
    "biceps_femoris = np.zeros([101,1])\n",
    "glute_max = np.zeros([101,1])\n",
    "glute_med = np.zeros([101,1])\n",
    "lateral_gastroc = np.zeros([101,1])\n",
    "medial_gastroc = np.zeros([101,1])\n",
    "rectus_femoris = np.zeros([101,1])\n",
    "soleus = np.zeros([101,1])\n",
    "semitendinosus = np.zeros([101,1])\n",
    "tibialis_anterior = np.zeros([101,1])\n",
    "vastus_lateralis = np.zeros([101,1])\n",
    "vastus_medialis = np.zeros([101,1])\n",
    "\n",
    "#Create a list that contains each of the empty matrices for looping over to store data\n",
    "pca_file_list = [biceps_femoris, glute_max, glute_med, lateral_gastroc, medial_gastroc, rectus_femoris, \n",
    "                 soleus, semitendinosus, tibialis_anterior, vastus_lateralis, vastus_medialis]\n",
    "\n",
    "#create a list of strings for exporting files\n",
    "pca_file_list_names = ['biceps_femoris', 'glute_max', 'glute_med', 'lateral_gastroc', 'medial_gastroc', 'rectus_femoris', \n",
    "                 'soleus', 'semitendinosus', 'tibialis_anterior', 'vastus_lateralis', 'vastus_medialis']"
   ]
  },
  {
   "cell_type": "code",
   "execution_count": 29,
   "metadata": {},
   "outputs": [
    {
     "name": "stdout",
     "output_type": "stream",
     "text": [
      "13\n",
      "20\n",
      "32\n",
      "44\n",
      "52\n",
      "64\n",
      "75\n",
      "87\n",
      "95\n",
      "107\n",
      "118\n",
      "130\n",
      "140\n",
      "153\n",
      "167\n"
     ]
    }
   ],
   "source": [
    "#Loop through each file \n",
    "total_strides = 0\n",
    "\n",
    "for file_idx,file_name in enumerate(directory):\n",
    "    \n",
    "    #set variable as file path\n",
    "    file_path = os.path.join(data_directory,file_name)\n",
    "    \n",
    "    #load the file\n",
    "    raw_file = pd.read_csv(file_path,sep='\\t',skiprows=4)\n",
    "    _,num_cols = raw_file.shape\n",
    "    \n",
    "    #preallocate a matrix to store the resampled data in\n",
    "    resampled_matrix = np.zeros([101,num_cols-1])\n",
    "    \n",
    "    #loop through each column in the raw_file and resample to 101 data points\n",
    "    #list of the varaibles which represent each column\n",
    "    column_list=raw_file.columns\n",
    "    \n",
    "    #loop through each column\n",
    "    for col_idx,column_id in enumerate(column_list[1:]):\n",
    "        \n",
    "        #get the current column as a vector\n",
    "        current_col = np.array(raw_file.loc[:,column_id].dropna())\n",
    "        \n",
    "        #resample to 101 data points\n",
    "        resamp_col = resample(current_col,101)\n",
    "        \n",
    "        #store resamples vector in resampled matrix\n",
    "        resampled_matrix[:,col_idx] = resamp_col\n",
    "        \n",
    "        \n",
    "    #stride counter - used for plotting purposes\n",
    "    stride_count = int((num_cols-1)/11)\n",
    "    #print(stride_count)\n",
    "    \n",
    "    #count the total number of strides\n",
    "    total_strides = total_strides + stride_count\n",
    "    print(total_strides)\n",
    "    \n",
    "    #append muscle matrices with data from new sheet\n",
    "    #biceps_femoris = np.hstack((biceps_femoris,resampled_matrix[:,0:stride_count]))\n",
    "    #glute_max = np.hstack((glute_max,resampled_matrix[:,stride_count:stride_count*2]))\n",
    "    #glute_med = np.hstack((glute_med,resampled_matrix[:,stride_count*2:stride_count*3]))\n",
    "    #lateral_gastroc = np.hstack((lateral_gastroc,resampled_matrix[:,stride_count*3:stride_count*4]))\n",
    "    #medial_gastroc = np.hstack((medial_gastroc,resampled_matrix[:,stride_count*4:stride_count*5]))\n",
    "    #rectus_femoris = np.hstack((rectus_femoris,resampled_matrix[:,stride_count*5:stride_count*6]))\n",
    "    #soleus = np.hstack((soleus,resampled_matrix[:,stride_count*6:stride_count*7]))\n",
    "    #semitendinosus = np.hstack((semitendinosus,resampled_matrix[:,stride_count*7:stride_count*8]))\n",
    "    #tibialis_anterior = np.hstack((tibialis_anterior,resampled_matrix[:,stride_count*8:stride_count*9]))\n",
    "    #vastus_lateralis = np.hstack((vastus_lateralis,resampled_matrix[:,stride_count*9:stride_count*10]))\n",
    "    #vastus_medialis = np.hstack((vastus_medialis,resampled_matrix[:,stride_count*10:stride_count*11]))\n",
    "    \n",
    "    for i in range(11):\n",
    "        pca_file_list[i] = np.hstack((pca_file_list[i],resampled_matrix[:,i*stride_count:(i+1)*stride_count]))"
   ]
  },
  {
   "cell_type": "code",
   "execution_count": 30,
   "metadata": {},
   "outputs": [],
   "source": [
    "#remove first column of zeros from each of the muscle matrices and export file to csv\n",
    "for ii in range(11):\n",
    "    pca_file_list[ii] = pca_file_list[ii][:,1:]\n",
    "    current_file_id = os.path.join('/Users/rossbrancati/Desktop/PFP_Project/EMG/Data/resampled_muscle_matrices/',output_folder_path,pca_file_list_names[ii])\n",
    "    np.savetxt(current_file_id+'.txt', pca_file_list[ii], delimiter=\"\\t\")"
   ]
  },
  {
   "cell_type": "code",
   "execution_count": null,
   "metadata": {},
   "outputs": [],
   "source": []
  }
 ],
 "metadata": {
  "kernelspec": {
   "display_name": "Python 3",
   "language": "python",
   "name": "python3"
  },
  "language_info": {
   "codemirror_mode": {
    "name": "ipython",
    "version": 3
   },
   "file_extension": ".py",
   "mimetype": "text/x-python",
   "name": "python",
   "nbconvert_exporter": "python",
   "pygments_lexer": "ipython3",
   "version": "3.8.8"
  }
 },
 "nbformat": 4,
 "nbformat_minor": 2
}
