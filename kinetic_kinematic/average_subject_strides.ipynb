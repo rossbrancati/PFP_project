{
 "cells": [
  {
   "cell_type": "code",
   "execution_count": 17,
   "metadata": {},
   "outputs": [],
   "source": [
    "import os\n",
    "import pandas as pd\n",
    "import numpy as np"
   ]
  },
  {
   "cell_type": "code",
   "execution_count": 18,
   "metadata": {},
   "outputs": [
    {
     "data": {
      "text/plain": [
       "['S14_EMG_021.txt',\n",
       " 'S15_EMG_021.txt',\n",
       " 'S28_EMG_021.txt',\n",
       " 'S30_EMG_021.txt',\n",
       " 'S31_EMG_021.txt',\n",
       " 'S33_EMG_021.txt',\n",
       " 'S35_EMG_021.txt',\n",
       " 'S37_EMG_021.txt',\n",
       " 'S42_EMG_021.txt',\n",
       " 'S43_EMG_021.txt',\n",
       " 'S46_EMG_021.txt',\n",
       " 'S48_EMG_021.txt',\n",
       " 'S49_EMG_021.txt',\n",
       " 'S50_EMG_021.txt',\n",
       " 'S59_EMG_021.txt']"
      ]
     },
     "execution_count": 18,
     "metadata": {},
     "output_type": "execute_result"
    }
   ],
   "source": [
    "#set the directory of PC scores \n",
    "#directory=('/Users/rossbrancati/Desktop/PFP_Project/kinetic_kinematic/Data/resampled_data/recovered_resampled')\n",
    "directory=sorted(os.listdir('/Users/rossbrancati/Desktop/PFP_Project/EMG/Data/normalized_EMG_data_subjects/recovered_021_normalized'))\n",
    "folder_path='/Users/rossbrancati/Desktop/PFP_Project/EMG/Data/normalized_EMG_data_subjects/recovered_021_normalized'\n",
    "#directory.remove('.DS_Store')\n",
    "directory\n",
    "\n"
   ]
  },
  {
   "cell_type": "code",
   "execution_count": 19,
   "metadata": {},
   "outputs": [],
   "source": [
    "#loop over each file of PC_scores\n",
    "for file_idx,file_name in enumerate(directory):\n",
    "    \n",
    "    #set variable as file path\n",
    "    file_path = os.path.join(folder_path,file_name)\n",
    "    \n",
    "    #load the file\n",
    "    raw_file = pd.read_csv(file_path,sep='\\t', header=None)\n",
    "    \n",
    "    num_rows,num_cols = raw_file.shape\n",
    "    \n",
    "    #for kinetic and kinematic data\n",
    "    #stride_count = num_cols/18\n",
    "    #for EMG data\n",
    "    stride_count=num_cols/11\n",
    "    \n",
    "    #create an empty data array to for appending data\n",
    "    #for kinetic and kinematic data\n",
    "    #mean_df = np.zeros((101,18))\n",
    "    #for EMG data\n",
    "    mean_df = np.zeros((101,11))\n",
    "    \n",
    "    #loop over each set of rows determined by the stride count and average rows together\n",
    "    #for kinetic and kinematic data\n",
    "    #for metric in range(18):\n",
    "    #for EMG data\n",
    "    for metric in range(11):\n",
    "        current_metric = raw_file.loc[:,metric*stride_count:(metric*stride_count+stride_count)]\n",
    "        mean_metric = current_metric.mean(axis=1)\n",
    "        mean_df[:,metric] = mean_metric\n",
    "    \n",
    "    #export the empty_df to a .csv file for anova testing\n",
    "    #np.savetxt('/Users/rossbrancati/Desktop/PFP_Project/kinetic_kinematic/Data/resampled_data/averages_for_trial/recovered_avgs/'+file_name, mean_df, delimiter='\\t')\n",
    "    np.savetxt('/Users/rossbrancati/Desktop/PFP_Project/EMG/Data/normalized_EMG_data_subjects/averages_for_trial/recovered_021_avgs/'+file_name, mean_df, delimiter='\\t')\n",
    "\n",
    "        \n",
    "        \n"
   ]
  },
  {
   "cell_type": "code",
   "execution_count": null,
   "metadata": {},
   "outputs": [],
   "source": []
  }
 ],
 "metadata": {
  "kernelspec": {
   "display_name": "Python 3",
   "language": "python",
   "name": "python3"
  },
  "language_info": {
   "codemirror_mode": {
    "name": "ipython",
    "version": 3
   },
   "file_extension": ".py",
   "mimetype": "text/x-python",
   "name": "python",
   "nbconvert_exporter": "python",
   "pygments_lexer": "ipython3",
   "version": "3.8.8"
  }
 },
 "nbformat": 4,
 "nbformat_minor": 2
}
