{
 "cells": [
  {
   "cell_type": "code",
   "execution_count": 17,
   "metadata": {},
   "outputs": [],
   "source": [
    "#This script normalizes the EMG waveforms (that are 101 datapoints long) to the maximum\n",
    "#EMG amplitude for the particular stride\n",
    "group = 'recovered_021'\n",
    "\n",
    "\n",
    "read_folder_path = group+'_resampled/'\n",
    "output_folder_path = '/normalized_EMG_data/'+group+'_normalized/'"
   ]
  },
  {
   "cell_type": "code",
   "execution_count": 18,
   "metadata": {},
   "outputs": [],
   "source": [
    "import os\n",
    "import numpy as np \n",
    "import pandas as pd"
   ]
  },
  {
   "cell_type": "code",
   "execution_count": 19,
   "metadata": {},
   "outputs": [],
   "source": [
    "#set the working directory\n",
    "os.chdir('/Users/rossbrancati/Desktop/PFP_Project/EMG/Data/resampled_muscle_matrices')\n",
    "data_directory = os.path.join(os.getcwd(), read_folder_path)\n",
    "directory = sorted(os.listdir(data_directory))\n",
    "#directory.remove('.DS_Store')"
   ]
  },
  {
   "cell_type": "code",
   "execution_count": 20,
   "metadata": {},
   "outputs": [],
   "source": [
    "#create normalized matrices for storing data\n",
    "biceps_femoris_norm = np.zeros([101,1])\n",
    "glute_max_norm = np.zeros([101,1])\n",
    "glute_med_norm = np.zeros([101,1])\n",
    "lateral_gastroc_norm = np.zeros([101,1])\n",
    "medial_gastroc_norm = np.zeros([101,1])\n",
    "rectus_femoris_norm = np.zeros([101,1])\n",
    "soleus_norm = np.zeros([101,1])\n",
    "semitendinosus_norm = np.zeros([101,1])\n",
    "tibialis_anterior_norm = np.zeros([101,1])\n",
    "vastus_lateralis_norm = np.zeros([101,1])\n",
    "vastus_medialis_norm = np.zeros([101,1])\n",
    "\n",
    "#Create a list that contains each of the empty matrices for looping over to store data\n",
    "pca_file_list_norm = [biceps_femoris_norm, glute_max_norm, glute_med_norm, lateral_gastroc_norm, medial_gastroc_norm, \n",
    "                 rectus_femoris_norm, soleus_norm, semitendinosus_norm, tibialis_anterior_norm, \n",
    "                 vastus_lateralis_norm, vastus_medialis_norm]\n",
    "\n",
    "#create a list of strings for exporting files\n",
    "pca_file_list_names_norm = ['biceps_femoris', 'glute_max', 'glute_med', 'lateral_gastroc', 'medial_gastroc', 'rectus_femoris', \n",
    "                 'soleus', 'semitendinosus', 'tibialis_anterior', 'vastus_lateralis', 'vastus_medialis']"
   ]
  },
  {
   "cell_type": "code",
   "execution_count": 21,
   "metadata": {},
   "outputs": [],
   "source": [
    "for file_idx,file_name in enumerate(directory):\n",
    "    \n",
    "    file_path = os.path.join(data_directory,file_name)\n",
    "    \n",
    "    raw_file = pd.read_csv(file_path,sep='\\t', header=None)\n",
    "    _,num_cols = raw_file.shape\n",
    "    \n",
    "   #convert the initialized matrix to a vector so that vstack function doesn't throw error\n",
    "    current_matrix = pca_file_list_norm[file_idx]\n",
    "\n",
    "    for cols in range(num_cols):\n",
    "        \n",
    "        #pull the current column from the raw file\n",
    "        current_col = raw_file[raw_file.columns[cols]]\n",
    "\n",
    "        #divide each element by the maximum EMG value\n",
    "        normalized_col = current_col / max(current_col)\n",
    "\n",
    "        #convert from pandas array to numpy array\n",
    "        normalized_col_np = normalized_col.to_numpy()\n",
    "        normalized_col_np = normalized_col_np.reshape(101,1)\n",
    "        #normalized_col_np = normalized_col_np\n",
    "\n",
    "        #horizontally stack the normalized column with the correct np data array generated above\n",
    "        current_matrix = np.hstack((current_matrix, normalized_col_np))\n",
    "\n",
    "        \n",
    "    current_matrix_transpose = current_matrix[:,1:].T\n",
    "    \n",
    "    np.savetxt('/Users/rossbrancati/Desktop/PFP_Project/EMG/Data/'+output_folder_path+file_name, current_matrix_transpose, \n",
    "               delimiter=\"\\t\", fmt='%f')"
   ]
  },
  {
   "cell_type": "code",
   "execution_count": null,
   "metadata": {},
   "outputs": [],
   "source": []
  }
 ],
 "metadata": {
  "kernelspec": {
   "display_name": "Python 3",
   "language": "python",
   "name": "python3"
  },
  "language_info": {
   "codemirror_mode": {
    "name": "ipython",
    "version": 3
   },
   "file_extension": ".py",
   "mimetype": "text/x-python",
   "name": "python",
   "nbconvert_exporter": "python",
   "pygments_lexer": "ipython3",
   "version": "3.8.8"
  }
 },
 "nbformat": 4,
 "nbformat_minor": 2
}
