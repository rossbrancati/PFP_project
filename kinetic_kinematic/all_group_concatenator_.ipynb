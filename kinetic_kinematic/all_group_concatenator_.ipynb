{
 "cells": [
  {
   "cell_type": "code",
   "execution_count": 1,
   "metadata": {},
   "outputs": [],
   "source": [
    "#This is a script for concatenating files so that I don't have to open each file, copy and paste, etc.\n",
    "\n",
    "metric_list = ['ankle_angle_x.txt','ankle_angle_y.txt','ankle_angle_z.txt',\n",
    "               'ankle_moment_x.txt','ankle_moment_y.txt','ankle_moment_z.txt',\n",
    "               'hip_angle_x.txt','hip_angle_y.txt','hip_angle_z.txt',\n",
    "               'hip_moment_x.txt','hip_moment_y.txt','hip_moment_z.txt',\n",
    "               'knee_angle_x.txt','knee_angle_y.txt','knee_angle_z.txt',\n",
    "               'knee_moment_x.txt','knee_moment_y.txt','knee_moment_z.txt']\n",
    "\n",
    "#depending on if you are using individual strides or means, you may have to change this\n",
    "for metric in metric_list:\n",
    "    filenames = ['/Users/rossbrancati/Desktop/PFP_Project/kinetic_kinematic/Data/metric_matrices/individual_means/healthy/'+metric,\n",
    "                 '/Users/rossbrancati/Desktop/PFP_Project/kinetic_kinematic/Data/metric_matrices/individual_means/injured/'+metric,\n",
    "                 '/Users/rossbrancati/Desktop/PFP_Project/kinetic_kinematic/Data/metric_matrices/individual_means/recovered_01/'+metric,\n",
    "                 '/Users/rossbrancati/Desktop/PFP_Project/kinetic_kinematic/Data/metric_matrices/individual_means/recovered_021/'+metric]\n",
    "    with open('/Users/rossbrancati/Desktop/PFP_Project/kinetic_kinematic/Data/metric_matrices/individual_means/all_groups/'+metric, 'w') as outfile:\n",
    "        for fname in filenames:\n",
    "            with open(fname) as infile:\n",
    "                outfile.write(infile.read())"
   ]
  },
  {
   "cell_type": "code",
   "execution_count": null,
   "metadata": {},
   "outputs": [],
   "source": []
  },
  {
   "cell_type": "code",
   "execution_count": null,
   "metadata": {},
   "outputs": [],
   "source": []
  }
 ],
 "metadata": {
  "kernelspec": {
   "display_name": "Python 3",
   "language": "python",
   "name": "python3"
  },
  "language_info": {
   "codemirror_mode": {
    "name": "ipython",
    "version": 3
   },
   "file_extension": ".py",
   "mimetype": "text/x-python",
   "name": "python",
   "nbconvert_exporter": "python",
   "pygments_lexer": "ipython3",
   "version": "3.8.8"
  }
 },
 "nbformat": 4,
 "nbformat_minor": 2
}
