{
 "cells": [
  {
   "cell_type": "code",
   "execution_count": null,
   "metadata": {},
   "outputs": [],
   "source": [
    "# import libraries\n",
    "import os\n",
    "import numpy as np \n",
    "import pandas as pd \n",
    "from scipy.signal import resample \n",
    "import matplotlib.pyplot as plt "
   ]
  },
  {
   "cell_type": "code",
   "execution_count": null,
   "metadata": {},
   "outputs": [],
   "source": [
    "#set the current working directory where the data is stored\n",
    "os.chdir('/Users/rossbrancati/Desktop/PFP_Project/EMG/')\n",
    "data_directory = os.path.join(os.getcwd(), 'Data')\n",
    "directory = os.listdir(data_directory)\n",
    "directory.remove('.DS_Store')\n",
    "print(directory)\n",
    "\n",
    "#make a new directory to save the plots in\n",
    "plots_directory = os.path.join(os.getcwd(), 'py_plots')"
   ]
  },
  {
   "cell_type": "code",
   "execution_count": null,
   "metadata": {},
   "outputs": [],
   "source": [
    "#Processing data\n",
    "\n",
    "#Loop through each file within data_directory\n",
    "for file_idx,file_name in enumerate(directory):\n",
    "    print(file_idx, file_name)\n",
    "    \n",
    "    #find the file path for the current file\n",
    "    file_path = os.path.join(data_directory,file_name)\n",
    "    #print(file_path)\n",
    "    \n",
    "    #load the file\n",
    "    raw_file = pd.read_csv(file_path, sep='\\t', skiprows=4)\n",
    "    _,num_cols = raw_file.shape\n",
    "    print(num_cols)\n",
    "    \n",
    "    #preallocate a matrix to store the resampled data in\n",
    "    resampled_matrix = np.zeros([101,num_cols-1])\n",
    "    \n",
    "    #loop through each column in the raw_file and resample to 101 data points\n",
    "    #list of the varaibles which represent each column\n",
    "    column_list=raw_file.columns\n",
    "    \n",
    "    #loop through each column\n",
    "    for col_idx,column_id in enumerate(column_list[1:]):\n",
    "        \n",
    "        #get the current column as a vector\n",
    "        current_col = np.array(raw_file.loc[:,column_id].dropna())\n",
    "        \n",
    "        #resample to 101 data points\n",
    "        resamp_col = resample(current_col,101)\n",
    "        \n",
    "        #store resamples vector in resampled matrix\n",
    "        resampled_matrix[:,col_idx] = resamp_col\n",
    "        \n",
    "    #stride counter - used for plotting purposes\n",
    "    stride_count = int((num_cols-1)/11)\n",
    "    \n",
    "    #create a list of muscle titles\n",
    "    muscle_name = ['Biceps Femoris','Glute Max','Glute Med','Lateral Gastroc','Medial Gastroc',\n",
    "                  'Rectus Femoris','Soleus','Semitendinosus','Tibialis Anterior','Vastus Lateralis',\n",
    "                  'Vastus Medialis']\n",
    "    \n",
    "    #plot the data from resampled_matrix\n",
    "    plt.figure(figsize=(18,18))\n",
    "    plt.ion()\n",
    "    for i in range(11):\n",
    "        plt.subplot(4,3,i+1)\n",
    "        plt.plot(resampled_matrix[:,i*stride_count:(i+1)*stride_count])\n",
    "        plt.title(muscle_name[i])\n",
    "    plt.ioff()\n",
    "        \n",
    "    save_path = os.path.join(plots_directory,file_name[0:-4]+str('.png'))\n",
    "    plt.savefig(save_path)\n",
    "    "
   ]
  },
  {
   "cell_type": "code",
   "execution_count": null,
   "metadata": {},
   "outputs": [],
   "source": []
  }
 ],
 "metadata": {
  "kernelspec": {
   "display_name": "Python 3",
   "language": "python",
   "name": "python3"
  },
  "language_info": {
   "codemirror_mode": {
    "name": "ipython",
    "version": 3
   },
   "file_extension": ".py",
   "mimetype": "text/x-python",
   "name": "python",
   "nbconvert_exporter": "python",
   "pygments_lexer": "ipython3",
   "version": "3.7.3"
  }
 },
 "nbformat": 4,
 "nbformat_minor": 2
}
