{
 "cells": [
  {
   "cell_type": "code",
   "execution_count": 9,
   "metadata": {},
   "outputs": [],
   "source": [
    "#This script will organize the waveforms into matrices where one matrix represents a single kinetic or kinematic metric"
   ]
  },
  {
   "cell_type": "code",
   "execution_count": 22,
   "metadata": {},
   "outputs": [],
   "source": [
    "#Change these depending on the file path\n",
    "group = 'recovered_021'\n",
    "\n",
    "#read_folder = group+'_resampled'\n",
    "read_folder = group+'_avgs'"
   ]
  },
  {
   "cell_type": "code",
   "execution_count": 23,
   "metadata": {},
   "outputs": [],
   "source": [
    "# import libraries\n",
    "import os\n",
    "import numpy as np \n",
    "import pandas as pd \n",
    "from scipy.signal import resample \n",
    "import matplotlib.pyplot as plt "
   ]
  },
  {
   "cell_type": "code",
   "execution_count": 25,
   "metadata": {},
   "outputs": [
    {
     "name": "stdout",
     "output_type": "stream",
     "text": [
      "['S14_kinetic_kinematic_021.txt', 'S15_kinetic_kinematic_021.txt', 'S28_kinetic_kinematic_021.txt', 'S30_kinetic_kinematic_021.txt', 'S31_kinetic_kinematic_021.txt', 'S33_kinetic_kinematic_021.txt', 'S35_kinetic_kinematic_021.txt', 'S37_kinetic_kinematic_021.txt', 'S42_kinetic_kinematic_021.txt', 'S43_kinetic_kinematic_021.txt', 'S46_kinetic_kinematic_021.txt', 'S48_kinetic_kinematic_021.txt', 'S49_kinetic_kinematic_021.txt', 'S50_kinetic_kinematic_021.txt', 'S59_kinetic_kinematic_021.txt']\n"
     ]
    }
   ],
   "source": [
    "#set the working directory\n",
    "#use this if you are trying to generate a metric_matrices from the individual stride data\n",
    "#os.chdir('/Users/rossbrancati/Desktop/PFP_Project/kinetic_kinematic/Data/resampled_data/')\n",
    "#use this if you want to generate metric_matrices from the means of the strides\n",
    "os.chdir('/Users/rossbrancati/Desktop/PFP_Project/kinetic_kinematic/Data/resampled_data/averages_for_trial')\n",
    "\n",
    "data_directory = os.path.join(os.getcwd(), read_folder)\n",
    "directory = sorted(os.listdir(data_directory))\n",
    "#directory.remove('.DS_Store')\n",
    "print(directory)\n",
    "\n",
    "#make a new directory to store the PCA matrices in\n",
    "pca_directory = os.path.join(os.getcwd(),'PCA_matrices')"
   ]
  },
  {
   "cell_type": "code",
   "execution_count": 26,
   "metadata": {},
   "outputs": [],
   "source": [
    "#Create an empty matrix for each muscle that will be appended with each new sheet. This is 1 column of 101 zeros\n",
    "hip_angle_x = np.zeros([101,1])\n",
    "hip_angle_y = np.zeros([101,1])\n",
    "hip_angle_z = np.zeros([101,1])\n",
    "knee_angle_x = np.zeros([101,1])\n",
    "knee_angle_y = np.zeros([101,1])\n",
    "knee_angle_z = np.zeros([101,1])\n",
    "ankle_angle_x = np.zeros([101,1])\n",
    "ankle_angle_y = np.zeros([101,1])\n",
    "ankle_angle_z = np.zeros([101,1])\n",
    "hip_moment_x = np.zeros([101,1])\n",
    "hip_moment_y = np.zeros([101,1])\n",
    "hip_moment_z = np.zeros([101,1])\n",
    "knee_moment_x = np.zeros([101,1])\n",
    "knee_moment_y = np.zeros([101,1])\n",
    "knee_moment_z = np.zeros([101,1])\n",
    "ankle_moment_x = np.zeros([101,1])\n",
    "ankle_moment_y = np.zeros([101,1])\n",
    "ankle_moment_z = np.zeros([101,1])\n",
    "\n",
    "#Create a list that contains each of the empty matrices for looping over to store data\n",
    "pca_file_list = [hip_angle_x,hip_angle_y,hip_angle_z,knee_angle_x,knee_angle_y,knee_angle_z,ankle_angle_x,\n",
    "                 ankle_angle_y,ankle_angle_z,hip_moment_x,hip_moment_y,hip_moment_z,knee_moment_x,knee_moment_y,\n",
    "                 knee_moment_z,ankle_moment_x,ankle_moment_y,ankle_moment_z]\n",
    "\n",
    "#create a list of strings for exporting files\n",
    "pca_file_list_names = ['hip_angle_x','hip_angle_y','hip_angle_z','knee_angle_x','knee_angle_y','knee_angle_z',\n",
    "                       'ankle_angle_x','ankle_angle_y','ankle_angle_z','hip_moment_x','hip_moment_y','hip_moment_z',\n",
    "                       'knee_moment_x','knee_moment_y','knee_moment_z','ankle_moment_x','ankle_moment_y',\n",
    "                       'ankle_moment_z']"
   ]
  },
  {
   "cell_type": "code",
   "execution_count": 27,
   "metadata": {},
   "outputs": [
    {
     "name": "stdout",
     "output_type": "stream",
     "text": [
      "1\n",
      "2\n",
      "3\n",
      "4\n",
      "5\n",
      "6\n",
      "7\n",
      "8\n",
      "9\n",
      "10\n",
      "11\n",
      "12\n",
      "13\n",
      "14\n",
      "15\n"
     ]
    }
   ],
   "source": [
    "#Loop through each file \n",
    "total_strides = 0\n",
    "\n",
    "for file_idx,file_name in enumerate(directory):\n",
    "    \n",
    "    #set variable as file path\n",
    "    file_path = os.path.join(data_directory,file_name)\n",
    "    \n",
    "    #load the file\n",
    "    raw_file = pd.read_csv(file_path,sep='\\t',header=None)\n",
    "    _,num_cols = raw_file.shape\n",
    "       \n",
    "    #stride counter - used for plotting purposes\n",
    "    stride_count = int((num_cols)/18)\n",
    "    #print(stride_count)\n",
    "    \n",
    "    #count the total number of strides\n",
    "    total_strides = total_strides + stride_count\n",
    "    print(total_strides)\n",
    "    \n",
    "    for i in range(18):\n",
    "        pca_file_list[i] = np.hstack((pca_file_list[i],raw_file.loc[:,i*stride_count:((i+1)*stride_count-1)]))"
   ]
  },
  {
   "cell_type": "code",
   "execution_count": 28,
   "metadata": {},
   "outputs": [],
   "source": [
    "#remove first column of zeros from each of the muscle matrices and export file to csv\n",
    "for ii in range(18):\n",
    "    pca_file_list[ii] = pca_file_list[ii][:,1:]\n",
    "    current_file_id = os.path.join('/Users/rossbrancati/Desktop/PFP_Project/kinetic_kinematic/Data/metric_matrices/individual_means/',group,pca_file_list_names[ii])\n",
    "    np.savetxt(current_file_id+'.txt', np.transpose(pca_file_list[ii]), delimiter=\"\\t\")"
   ]
  },
  {
   "cell_type": "code",
   "execution_count": null,
   "metadata": {},
   "outputs": [],
   "source": []
  }
 ],
 "metadata": {
  "kernelspec": {
   "display_name": "Python 3",
   "language": "python",
   "name": "python3"
  },
  "language_info": {
   "codemirror_mode": {
    "name": "ipython",
    "version": 3
   },
   "file_extension": ".py",
   "mimetype": "text/x-python",
   "name": "python",
   "nbconvert_exporter": "python",
   "pygments_lexer": "ipython3",
   "version": "3.8.8"
  }
 },
 "nbformat": 4,
 "nbformat_minor": 2
}
