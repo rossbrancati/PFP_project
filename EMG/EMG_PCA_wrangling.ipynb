{
 "cells": [
  {
   "cell_type": "code",
   "execution_count": 113,
   "metadata": {},
   "outputs": [],
   "source": [
    "# import libraries\n",
    "import os\n",
    "import numpy as np \n",
    "import pandas as pd \n",
    "from scipy.signal import resample \n",
    "import matplotlib.pyplot as plt "
   ]
  },
  {
   "cell_type": "code",
   "execution_count": 114,
   "metadata": {},
   "outputs": [],
   "source": [
    "#set the working directory\n",
    "os.chdir('/Users/rossbrancati/Desktop/PFP_Project/EMG/')\n",
    "data_directory = os.path.join(os.getcwd(), 'Data')\n",
    "directory = sorted(os.listdir(data_directory))\n",
    "directory.remove('.DS_Store')\n",
    "\n",
    "#make a new directory to store the PCA matrices in\n",
    "pca_directory = os.path.join(os.getcwd(),'PCA_matrices')"
   ]
  },
  {
   "cell_type": "code",
   "execution_count": 122,
   "metadata": {},
   "outputs": [],
   "source": [
    "#Create an empty matrix for each muscle that will be appended with each new sheet. This is 1 column of 101 zeros\n",
    "biceps_femoris = np.zeros([101,1])\n",
    "glute_max = np.zeros([101,1])\n",
    "glute_med = np.zeros([101,1])\n",
    "lateral_gastroc = np.zeros([101,1])\n",
    "medial_gastroc = np.zeros([101,1])\n",
    "rectus_femoris = np.zeros([101,1])\n",
    "soleus = np.zeros([101,1])\n",
    "semitendinosus = np.zeros([101,1])\n",
    "tibialis_anterior = np.zeros([101,1])\n",
    "vastus_lateralis = np.zeros([101,1])\n",
    "vastus_medialis = np.zeros([101,1])\n",
    "\n",
    "#Create a list that contains each of the empty matrices for looping over to store data\n",
    "pca_file_list = [biceps_femoris, glute_max, glute_med, lateral_gastroc, medial_gastroc, rectus_femoris, \n",
    "                 soleus, semitendinosus, tibialis_anterior, vastus_lateralis, vastus_medialis]\n",
    "\n",
    "#create a list of strings for exporting files\n",
    "pca_file_list_names = ['biceps_femoris', 'glute_max', 'glute_med', 'lateral_gastroc', 'medial_gastroc', 'rectus_femoris', \n",
    "                 'soleus', 'semitendinosus', 'tibialis_anterior', 'vastus_lateralis', 'vastus_medialis']"
   ]
  },
  {
   "cell_type": "code",
   "execution_count": 123,
   "metadata": {},
   "outputs": [
    {
     "name": "stdout",
     "output_type": "stream",
     "text": [
      "12\n",
      "23\n",
      "35\n",
      "49\n",
      "62\n",
      "74\n",
      "86\n",
      "99\n",
      "111\n",
      "124\n",
      "136\n",
      "149\n",
      "163\n",
      "176\n",
      "188\n",
      "200\n",
      "212\n",
      "224\n",
      "237\n",
      "251\n",
      "266\n",
      "278\n",
      "291\n",
      "304\n",
      "317\n",
      "330\n",
      "343\n",
      "356\n",
      "369\n",
      "382\n",
      "394\n",
      "406\n",
      "420\n",
      "434\n",
      "447\n",
      "460\n",
      "473\n",
      "486\n",
      "499\n",
      "512\n",
      "526\n",
      "539\n",
      "552\n",
      "564\n",
      "577\n",
      "589\n",
      "602\n",
      "615\n",
      "628\n",
      "641\n",
      "654\n",
      "666\n",
      "678\n",
      "690\n",
      "702\n",
      "715\n",
      "728\n",
      "740\n",
      "752\n",
      "764\n",
      "775\n",
      "786\n",
      "799\n",
      "813\n",
      "825\n",
      "837\n",
      "849\n",
      "861\n",
      "873\n",
      "886\n",
      "899\n",
      "912\n",
      "925\n",
      "938\n",
      "951\n",
      "963\n",
      "975\n",
      "988\n",
      "1000\n",
      "1012\n",
      "1025\n",
      "1039\n",
      "1051\n",
      "1063\n",
      "1074\n",
      "1085\n",
      "1098\n",
      "1111\n",
      "1124\n",
      "1137\n",
      "1150\n",
      "1162\n",
      "1174\n",
      "1187\n",
      "1200\n",
      "1213\n",
      "1227\n",
      "1241\n",
      "1253\n",
      "1265\n",
      "1276\n",
      "1287\n",
      "1298\n",
      "1309\n",
      "1323\n",
      "1337\n"
     ]
    }
   ],
   "source": [
    "#Loop through each file \n",
    "total_strides = 0\n",
    "\n",
    "for file_idx,file_name in enumerate(directory):\n",
    "    \n",
    "    #set variable as file path\n",
    "    file_path = os.path.join(data_directory,file_name)\n",
    "    \n",
    "    #load the file\n",
    "    raw_file = pd.read_csv(file_path,sep='\\t',skiprows=4)\n",
    "    _,num_cols = raw_file.shape\n",
    "    \n",
    "    #preallocate a matrix to store the resampled data in\n",
    "    resampled_matrix = np.zeros([101,num_cols-1])\n",
    "    \n",
    "    #loop through each column in the raw_file and resample to 101 data points\n",
    "    #list of the varaibles which represent each column\n",
    "    column_list=raw_file.columns\n",
    "    \n",
    "    #loop through each column\n",
    "    for col_idx,column_id in enumerate(column_list[1:]):\n",
    "        \n",
    "        #get the current column as a vector\n",
    "        current_col = np.array(raw_file.loc[:,column_id].dropna())\n",
    "        \n",
    "        #resample to 101 data points\n",
    "        resamp_col = resample(current_col,101)\n",
    "        \n",
    "        #store resamples vector in resampled matrix\n",
    "        resampled_matrix[:,col_idx] = resamp_col\n",
    "        \n",
    "        \n",
    "    #stride counter - used for plotting purposes\n",
    "    stride_count = int((num_cols-1)/11)\n",
    "    #print(stride_count)\n",
    "    \n",
    "    #count the total number of strides\n",
    "    total_strides = total_strides + stride_count\n",
    "    print(total_strides)\n",
    "    \n",
    "    #append muscle matrices with data from new sheet\n",
    "    #biceps_femoris = np.hstack((biceps_femoris,resampled_matrix[:,0:stride_count]))\n",
    "    #glute_max = np.hstack((glute_max,resampled_matrix[:,stride_count:stride_count*2]))\n",
    "    #glute_med = np.hstack((glute_med,resampled_matrix[:,stride_count*2:stride_count*3]))\n",
    "    #lateral_gastroc = np.hstack((lateral_gastroc,resampled_matrix[:,stride_count*3:stride_count*4]))\n",
    "    #medial_gastroc = np.hstack((medial_gastroc,resampled_matrix[:,stride_count*4:stride_count*5]))\n",
    "    #rectus_femoris = np.hstack((rectus_femoris,resampled_matrix[:,stride_count*5:stride_count*6]))\n",
    "    #soleus = np.hstack((soleus,resampled_matrix[:,stride_count*6:stride_count*7]))\n",
    "    #semitendinosus = np.hstack((semitendinosus,resampled_matrix[:,stride_count*7:stride_count*8]))\n",
    "    #tibialis_anterior = np.hstack((tibialis_anterior,resampled_matrix[:,stride_count*8:stride_count*9]))\n",
    "    #vastus_lateralis = np.hstack((vastus_lateralis,resampled_matrix[:,stride_count*9:stride_count*10]))\n",
    "    #vastus_medialis = np.hstack((vastus_medialis,resampled_matrix[:,stride_count*10:stride_count*11]))\n",
    "    \n",
    "    for i in range(11):\n",
    "        pca_file_list[i] = np.hstack((pca_file_list[i],resampled_matrix[:,i*stride_count:(i+1)*stride_count]))"
   ]
  },
  {
   "cell_type": "code",
   "execution_count": null,
   "metadata": {},
   "outputs": [],
   "source": [
    "#normalize data to the max value for each particular stride\n",
    "\n",
    "#loop through each EMG datasheet\n",
    "for muscle in range(11):\n",
    "    \n",
    "    _,cols = pca_file_list[muscle].shape\n",
    "    current_file = pca_file_list[muscle[:,1:]]\n",
    "    \n",
    "    current_norm_file = pca_file_list_norm[muscle]\n",
    "    \n",
    "    #loop through each column of the particular muscles data\n",
    "    for n in range(cols):\n",
    "        \n",
    "        #grab the maximum value of the particular column\n",
    "        max_EMG = max(current_file[:,n])\n",
    "        \n",
    "        #divide each component of the column by the max value\n",
    "        normalized_vector = np.divide(current_file[:,n], max_EMG)\n",
    "        \n",
    "        #store the current vector in new matrix that contains normalized values\n",
    "        current_norm_file[:,n] = normalized_vector\n",
    "        \n",
    "    #transpose the matrix \n",
    "    \n",
    "    "
   ]
  },
  {
   "cell_type": "code",
   "execution_count": 10,
   "metadata": {},
   "outputs": [],
   "source": [
    "#remove first column of zeros from each of the muscle matrices and export file to csv\n",
    "for ii in range(11):\n",
    "    pca_file_list[ii] = pca_file_list[ii][:,1:]\n",
    "    current_file_id = os.path.join('/Users/rossbrancati/Desktop/PFP_Project/EMG/PCA_matrices',pca_file_list_names[ii])\n",
    "    np.savetxt(current_file_id+'.txt', pca_file_list[ii], delimiter=\"\\t\")"
   ]
  },
  {
   "cell_type": "code",
   "execution_count": 118,
   "metadata": {},
   "outputs": [
    {
     "name": "stdout",
     "output_type": "stream",
     "text": [
      "[[0.01283016 0.01302616 0.01620639 ... 0.02632801 0.02427739 0.02757002]\n",
      " [0.0106486  0.01316343 0.01227453 ... 0.02106483 0.02713451 0.01801699]\n",
      " [0.01090128 0.01237654 0.01161806 ... 0.02049531 0.02128994 0.01781569]\n",
      " ...\n",
      " [0.01763349 0.02390698 0.01607368 ... 0.03544403 0.03282003 0.04533475]\n",
      " [0.01536527 0.01175964 0.01792289 ... 0.03305468 0.02967183 0.04408175]\n",
      " [0.01506553 0.01450652 0.01694345 ... 0.03344133 0.02385878 0.04240834]]\n"
     ]
    },
    {
     "data": {
      "text/plain": [
       "(101, 1337)"
      ]
     },
     "execution_count": 118,
     "metadata": {},
     "output_type": "execute_result"
    }
   ],
   "source": [
    "muscle = 0\n",
    "current_file = pca_file_list[muscle][:,1:]\n",
    "_,cols = pca_file_list[muscle].shape\n",
    "print(current_file)\n",
    "current_norm_file = pca_file_list_norm[muscle]\n",
    "current_file.shape"
   ]
  },
  {
   "cell_type": "code",
   "execution_count": 124,
   "metadata": {},
   "outputs": [
    {
     "name": "stderr",
     "output_type": "stream",
     "text": [
      "/Users/rossbrancati/anaconda3/lib/python3.7/site-packages/ipykernel_launcher.py:7: RuntimeWarning: invalid value encountered in true_divide\n",
      "  import sys\n"
     ]
    }
   ],
   "source": [
    "for n in range(cols-1):\n",
    "        \n",
    "        #grab the maximum value of the particular column\n",
    "        max_EMG = max(current_file[:,n])\n",
    "        \n",
    "        #divide each component of the column by the max value\n",
    "        normalized_vector = np.divide(current_file[:,n], max_EMG)\n",
    "        \n",
    "        #change the dimensions of current_norm_file from (101,1) to (100,) so that the dimensions\n",
    "        #agree with normalized_vector\n",
    "        current_norm_file = np.squeeze(current_norm_file)\n",
    "        \n",
    "        #store the current vector in new matrix that contains normalized values\n",
    "        current_norm_file = np.append([current_norm_file], [normalized_vector])"
   ]
  },
  {
   "cell_type": "code",
   "execution_count": 125,
   "metadata": {},
   "outputs": [
    {
     "name": "stdout",
     "output_type": "stream",
     "text": [
      "[0.         0.         0.         ... 0.89463658 0.86990982 0.83688684]\n"
     ]
    },
    {
     "data": {
      "text/plain": [
       "(270175,)"
      ]
     },
     "execution_count": 125,
     "metadata": {},
     "output_type": "execute_result"
    }
   ],
   "source": [
    "print(current_norm_file)\n",
    "current_norm_file.shape"
   ]
  },
  {
   "cell_type": "code",
   "execution_count": 97,
   "metadata": {},
   "outputs": [
    {
     "data": {
      "text/plain": [
       "numpy.ndarray"
      ]
     },
     "execution_count": 97,
     "metadata": {},
     "output_type": "execute_result"
    }
   ],
   "source": [
    "normalized_vector = np.divide(current_file[:,n], max_EMG)\n",
    "normalized_vector.shape\n",
    "type(normalized_vector)"
   ]
  },
  {
   "cell_type": "code",
   "execution_count": 101,
   "metadata": {},
   "outputs": [
    {
     "data": {
      "text/plain": [
       "array([0.10408987, 0.08639108, 0.08844109, 0.08354995, 0.08865956,\n",
       "       0.08292458, 0.09866122, 0.08162183, 0.22512071, 0.56728554,\n",
       "       0.58640442, 0.59453201, 0.58831967, 0.60019905, 0.5918485 ,\n",
       "       0.60265208, 0.59369508, 0.6197239 , 0.61093952, 0.62739797,\n",
       "       0.61460195, 0.63712912, 0.42082616, 0.21224367, 0.22842833,\n",
       "       0.20493496, 0.20383752, 0.1941231 , 0.19361864, 0.19164199,\n",
       "       0.15948748, 0.10443794, 0.11337257, 0.04566011, 0.03754398,\n",
       "       0.03253028, 0.032471  , 0.02758384, 0.03235322, 0.02843146,\n",
       "       0.03041453, 0.02526342, 0.02663837, 0.02361862, 0.02674781,\n",
       "       0.02292489, 0.02809076, 0.02683722, 0.03051605, 0.02658382,\n",
       "       0.03072393, 0.03355081, 0.04018407, 0.03586939, 0.03991702,\n",
       "       0.0368768 , 0.04174996, 0.04002086, 0.0450196 , 0.04024111,\n",
       "       0.04335881, 0.03768712, 0.0421937 , 0.03737124, 0.03940435,\n",
       "       0.02603823, 0.03070355, 0.0234987 , 0.03094782, 0.02066393,\n",
       "       0.02810813, 0.02694766, 0.08914847, 0.09593392, 0.52133584,\n",
       "       0.72024037, 0.67307118, 0.7185553 , 0.69668701, 0.78082231,\n",
       "       0.80523023, 0.91654268, 0.98467181, 0.97662626, 0.99105741,\n",
       "       0.98494099, 1.        , 0.92894047, 0.71385829, 0.72976221,\n",
       "       0.70084142, 0.71368658, 0.6639731 , 0.60367716, 0.50892626,\n",
       "       0.2342129 , 0.19819931, 0.17302743, 0.14305887, 0.12465699,\n",
       "       0.12222529])"
      ]
     },
     "execution_count": 101,
     "metadata": {},
     "output_type": "execute_result"
    }
   ],
   "source": [
    "np.reshape(normalized_vector, 101)"
   ]
  },
  {
   "cell_type": "code",
   "execution_count": 102,
   "metadata": {},
   "outputs": [
    {
     "data": {
      "text/plain": [
       "(101,)"
      ]
     },
     "execution_count": 102,
     "metadata": {},
     "output_type": "execute_result"
    }
   ],
   "source": [
    "normalized_vector.shape"
   ]
  },
  {
   "cell_type": "code",
   "execution_count": 107,
   "metadata": {},
   "outputs": [],
   "source": [
    "a = np.squeeze(current_norm_file)"
   ]
  },
  {
   "cell_type": "code",
   "execution_count": 108,
   "metadata": {},
   "outputs": [
    {
     "data": {
      "text/plain": [
       "(101,)"
      ]
     },
     "execution_count": 108,
     "metadata": {},
     "output_type": "execute_result"
    }
   ],
   "source": [
    "a.shape"
   ]
  },
  {
   "cell_type": "code",
   "execution_count": null,
   "metadata": {},
   "outputs": [],
   "source": []
  }
 ],
 "metadata": {
  "kernelspec": {
   "display_name": "Python 3",
   "language": "python",
   "name": "python3"
  },
  "language_info": {
   "codemirror_mode": {
    "name": "ipython",
    "version": 3
   },
   "file_extension": ".py",
   "mimetype": "text/x-python",
   "name": "python",
   "nbconvert_exporter": "python",
   "pygments_lexer": "ipython3",
   "version": "3.7.3"
  }
 },
 "nbformat": 4,
 "nbformat_minor": 2
}
