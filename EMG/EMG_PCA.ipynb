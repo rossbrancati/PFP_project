{
 "cells": [
  {
   "cell_type": "code",
   "execution_count": 126,
   "metadata": {},
   "outputs": [],
   "source": [
    "#import the libraries\n",
    "import os\n",
    "import numpy as np \n",
    "import pandas as pd \n",
    "import matplotlib.pyplot as plt\n",
    "\n",
    "#import standard scaler\n",
    "from sklearn.preprocessing import StandardScaler\n",
    "\n",
    "#import the PCA function\n",
    "from sklearn.decomposition import PCA"
   ]
  },
  {
   "cell_type": "code",
   "execution_count": 75,
   "metadata": {},
   "outputs": [],
   "source": [
    "#create the working directory\n",
    "os.chdir('/Users/rossbrancati/Desktop/PFP_Project/EMG/PCA_matrices')\n",
    "data_directory = os.path.join(os.getcwd(), 'all_groups_labeled')\n",
    "directory = sorted(os.listdir(data_directory))\n",
    "directory.remove('.DS_Store')"
   ]
  },
  {
   "cell_type": "code",
   "execution_count": 102,
   "metadata": {},
   "outputs": [],
   "source": [
    "#loop over every file in the directory\n",
    "#for file_idx,file_name in enumerate(directory):\n",
    "    \n",
    "#set variable as file path for file and labels\n",
    "file_path = os.path.join(data_directory,file_name)\n",
    "labels_path = os.path.join(data_directory,'labels.txt')\n",
    "\n",
    "#load the file\n",
    "raw_file = pd.read_csv(file_path,sep='\\t')\n",
    "#load the labels\n",
    "labels = pd.read_csv(labels_path,sep='\\t')\n",
    "\n",
    "#create an array of features for labelling columns\n",
    "features = np.array(['t1', 't2', 't3', 't4', 't5', 't6', 't7', 't8', 't9', 't10', \n",
    "                     't11', 't12', 't13', 't14', 't15', 't16', 't17', 't18', 't19', 't20', \n",
    "                     't21', 't22', 't23', 't24', 't25', 't26', 't27', 't28', 't29', 't30', \n",
    "                     't31', 't32', 't33', 't34', 't35', 't36', 't37', 't38', 't39', 't40', \n",
    "                     't41', 't42', 't43', 't44', 't45', 't46', 't47', 't48', 't49', 't50', \n",
    "                     't51', 't52', 't53', 't54', 't55', 't56', 't57', 't58', 't59', 't60', \n",
    "                     't61', 't62', 't63', 't64', 't65', 't66', 't67', 't68', 't69', 't70', \n",
    "                     't71', 't72', 't73', 't74', 't75', 't76', 't77', 't78', 't79', 't80', \n",
    "                     't81', 't82', 't83', 't84', 't85', 't86', 't87', 't88', 't89', 't90', \n",
    "                     't91', 't92', 't93', 't94', 't95', 't96', 't97', 't98', 't99', 't100', \n",
    "                     't101', 'labels'])\n",
    "\n",
    "#convert raw_file to a pandas data frame\n",
    "current_muscle = pd.DataFrame(raw_file)\n",
    "\n",
    "#concatenate labels and current_mucscle\n",
    "final_muscle_data = np.concatenate([current_muscle,labels], axis=1)\n",
    "muscle_dataset = pd.DataFrame(final_muscle_data)\n",
    "\n",
    "#assign the feature array to the column titles of the muscle_dataset\n",
    "muscle_dataset.columns = features\n",
    "\n",
    "#check the first 5 rows of the muscle_dataset\n",
    "#muscle_dataset.head()\n",
    "\n",
    "#switch the labels from 0, 1, and 2 to healthy, recovered, and injured\n",
    "muscle_dataset['labels'].replace(0, 'healthy',inplace=True)\n",
    "muscle_dataset['labels'].replace(1, 'recovered',inplace=True)\n",
    "muscle_dataset['labels'].replace(2, 'injured',inplace=True)\n",
    "\n",
    "\n",
    "#standardizing the data\n",
    "#it is necessary in PCA to standardize the data around the mean because the scale of data\n",
    "#could be very different between signals.\n",
    "####Although I am not sure if it is necessary with this EMG data because it is already \n",
    "####normalized to largest EMG signal during the particular stride\n",
    "x = current_muscle.loc[:,features].values\n",
    "x = StandardScaler().fit_transform(x)\n",
    "\n",
    "#convert normalized features into tabular format with the help of dataframe\n",
    "#NOT SURE IF THIS IS NEEDED OR NOT\n",
    "#feat_cols = ['feature'+str(i) for i in range(current_muscle.shape[1])]\n",
    "#muscle_dataset_new_col_names = pd.DataFrame(current_muscle,columns=feat_cols)\n",
    "    \n",
    "\n"
   ]
  },
  {
   "cell_type": "code",
   "execution_count": 120,
   "metadata": {},
   "outputs": [],
   "source": [
    "#Principal Component Analysis\n",
    "\n",
    "#build the PCA model\n",
    "pca_muscle = PCA(n_components=2)\n",
    "principalComponents_muscle = pca_muscle.fit_transform(current_muscle)\n",
    "\n",
    "#create a dataframe with the principal component values for all samples\n",
    "principal_muscle_DF = pd.DataFrame(data = principalComponents_muscle, \n",
    "                                   columns = ['principal component 1', 'principal component 2'])\n",
    "principal_muscle_DF.tail()\n",
    "\n",
    "print('Explained variation per principal component: {}'.format(pca_muscle.explained_variance_ratio_))\n"
   ]
  },
  {
   "cell_type": "code",
   "execution_count": 131,
   "metadata": {},
   "outputs": [
    {
     "data": {
      "text/plain": [
       "<matplotlib.legend.Legend at 0x7fdee57978d0>"
      ]
     },
     "execution_count": 131,
     "metadata": {},
     "output_type": "execute_result"
    },
    {
     "data": {
      "text/plain": [
       "<Figure size 432x288 with 0 Axes>"
      ]
     },
     "metadata": {},
     "output_type": "display_data"
    },
    {
     "data": {
      "image/png": "[encoded data removed]",
      "text/plain": [
       "<Figure size 720x720 with 1 Axes>"
      ]
     },
     "metadata": {
      "needs_background": "light"
     },
     "output_type": "display_data"
    }
   ],
   "source": [
    "#Visualizing the PCA\n",
    "plt.figure()\n",
    "plt.figure(figsize=(10,10))\n",
    "plt.xticks(fontsize=12)\n",
    "plt.yticks(fontsize=14)\n",
    "plt.xlabel('Principal Component - 1',fontsize=20)\n",
    "plt.ylabel('Principal Component - 2',fontsize=20)\n",
    "plt.title(\"Principal Component Analysis of Biceps Femoris Dataset\",fontsize=20)\n",
    "targets = ['Healthy', 'Recovered', 'Injured']\n",
    "colors = ['r', 'g', 'b']\n",
    "for target, color in zip(targets,colors):\n",
    "    indicesToKeep = muscle_dataset['labels'] == target\n",
    "    plt.scatter(principal_muscle_DF.loc[indicesToKeep, 'principal component 1']\n",
    "               , principal_muscle_DF.loc[indicesToKeep, 'principal component 2'], c = color, s = 50)\n",
    "\n",
    "plt.legend(targets,prop={'size': 15})"
   ]
  },
  {
   "cell_type": "code",
   "execution_count": null,
   "metadata": {},
   "outputs": [],
   "source": []
  }
 ],
 "metadata": {
  "kernelspec": {
   "display_name": "Python 3",
   "language": "python",
   "name": "python3"
  },
  "language_info": {
   "codemirror_mode": {
    "name": "ipython",
    "version": 3
   },
   "file_extension": ".py",
   "mimetype": "text/x-python",
   "name": "python",
   "nbconvert_exporter": "python",
   "pygments_lexer": "ipython3",
   "version": "3.7.3"
  }
 },
 "nbformat": 4,
 "nbformat_minor": 2
}
